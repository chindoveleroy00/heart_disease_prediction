{
 "cells": [
  {
   "cell_type": "code",
   "execution_count": null,
   "id": "9046e8e4",
   "metadata": {
    "vscode": {
     "languageId": "plaintext"
    }
   },
   "outputs": [],
   "source": [
    "Model Evaluation\n",
    "This notebook focuses on evaluating the trained heart disease prediction model using a separate test dataset. We will load the featured data, split it into train and test sets (consistent with training), load the saved model, and calculate various classification metrics to assess its performance."
   ]
  },
  {
   "cell_type": "code",
   "execution_count": null,
   "id": "f5f7efc5",
   "metadata": {
    "vscode": {
     "languageId": "plaintext"
    }
   },
   "outputs": [],
   "source": [
    "import os\n",
    "import pandas as pd\n",
    "import numpy as np\n",
    "import joblib\n",
    "import warnings\n",
    "from pathlib import Path\n",
    "\n",
    "# Import necessary metrics and utilities from scikit-learn\n",
    "from sklearn.model_selection import train_test_split\n",
    "from sklearn.metrics import accuracy_score, precision_score, recall_score, f1_score, roc_auc_score\n",
    "from sklearn.metrics import confusion_matrix, classification_report\n",
    "from sklearn.impute import SimpleImputer\n",
    "\n",
    "# Import Tuple for type hinting\n",
    "from typing import Tuple\n",
    "\n",
    "# Suppress warnings for cleaner output (e.g., from specific libraries or operations)\n",
    "warnings.filterwarnings('ignore')\n",
    "\n",
    "print(\"Libraries imported successfully.\")"
   ]
  },
  {
   "cell_type": "code",
   "execution_count": null,
   "id": "a8fc925d",
   "metadata": {
    "vscode": {
     "languageId": "plaintext"
    }
   },
   "outputs": [],
   "source": [
    "# Define base paths using pathlib for cross-platform compatibility\n",
    "# Make sure these paths match where your processed data and trained model are saved\n",
    "base_dir = Path(r\"C:\\Users\\lchin\\Desktop\\Projects\\Prototypes\\heart_disease_prediction\")\n",
    "featured_data_path = base_dir / 'data' / 'processed' / 'featured_heart_data.csv'\n",
    "model_path = base_dir / 'data' / 'models' / 'heart_disease_model.joblib'\n",
    "\n",
    "print(f\"Featured data path: {featured_data_path}\")\n",
    "print(f\"Trained model path: {model_path}\")"
   ]
  }
 ],
 "metadata": {
  "language_info": {
   "name": "python"
  }
 },
 "nbformat": 4,
 "nbformat_minor": 5
}
